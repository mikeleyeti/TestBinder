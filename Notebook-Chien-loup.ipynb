{
 "cells": [
  {
   "cell_type": "markdown",
   "metadata": {},
   "source": [
    "## Import des données\n",
    "La première étape est de charger notre fichier dans python.  \n",
    "Nous allons utiliser une fonction qui prendra comme paramètre le nom du fichier csv (situé dans le même répertoire).  \n",
    "Cette fonction retournera une liste, dans celle-ci, plusieurs listes. Une liste pour chaque ligne du fichier de données."
   ]
  },
  {
   "cell_type": "code",
   "execution_count": 1,
   "metadata": {},
   "outputs": [],
   "source": [
    "import csv\n",
    "\n",
    "def charger_csv(nom_fic):\n",
    "    \"\"\"Fonction qui permet d'importer les données du fichier csv sous forme de liste de listes \"\"\"\n",
    "    liste = []  # resultat de la fonction\n",
    "    # ouverture du fichier CSV\n",
    "    with open(nom_fic,  # nom du fichier\n",
    "              \"r\",  # ouverture en lecture\n",
    "              newline=\"\",  # évite les problèmes de codage du retour à la ligne\n",
    "              encoding=\"utf-8-sig\"  # permet de forcer la lecture en utf -8 (sig pour \"UTF-8 codec with BOM signature\")\n",
    "              ) as csvfile:  # cvsfile est le fichier que l'on vient d'ouvrir\n",
    "        # création du lecteur csv indiquant le caractère séparateur\n",
    "        score_reader = csv.reader(csvfile, delimiter=\",\")\n",
    "        for enreg in score_reader:  # boucle de parcours des enregistrements\n",
    "            # enreg est une liste de str contenant chaque champ de l ' enregistrement\n",
    "            # ajout de enreg dans la liste\n",
    "            liste.append(enreg)\n",
    "    return liste"
   ]
  },
  {
   "cell_type": "markdown",
   "metadata": {},
   "source": [
    "Ensuite on procède à l'import des données."
   ]
  },
  {
   "cell_type": "code",
   "execution_count": 2,
   "metadata": {},
   "outputs": [
    {
     "name": "stdout",
     "output_type": "stream",
     "text": [
      "[['type',\n",
      "  '      ident',\n",
      "  'lcb',\n",
      "  '     lms',\n",
      "  'lbm',\n",
      "  '          lp.',\n",
      "  '   Lm.',\n",
      "  '         lam'],\n",
      " ['chien', 'bull-dog', '129', '64', '95', '17,5', '11,5', '13,8'],\n",
      " ['chien', 'bull-dog', '154', '74', '76', '20', '14,2', '16,5'],\n",
      " ['chien', 'chien-ind', '170', '87', '71', '17,9', '12,3', '15,9'],\n",
      " ['chien', 'chien-ind', '188', '94', '73', '19,5', '13,3', '14,8'],\n",
      " ['chien', 'chien-ind', '161', '81', '55', '17,1', '12,1', '13'],\n",
      " ['chien', 'chien-ind', '164', '90', '58', '17,5', '12,7', '14,7'],\n",
      " ['chien', 'berger allemand', '203', '109', '65', '20,7', '14', '16,8'],\n",
      " ['chien', 'levrier', '178', '97', '57', '17,3', '12,8', '14,3'],\n",
      " ['chien', 'levrier', '212', '114', '65', '20,5', '14,3', '15,5'],\n",
      " ['chien', 'levrier', '221', '123', '62', '21,2', '15,2', '17'],\n",
      " ['chien', 'colley', '183', '97', '52', '19,3', '12,9', '13,5'],\n",
      " ['chien', 'doberman', '212', '112', '65', '19,7', '14,2', '16'],\n",
      " ['chien', 'setter', '220', '117', '70', '19,8', '14,3', '15,6'],\n",
      " ['chien', 'chien des Pyrenees', '216', '113', '72', '20,5', '14,4', '17,7'],\n",
      " ['chien', 'bas-rouge', '216', '112', '75', '19,6', '14', '16,4'],\n",
      " ['chien', 'berger allemand', '205', '110', '68', '20,8', '14,1', '16,4'],\n",
      " ['chien', 'briard', '228', '122', '78', '22,5', '14,2', '17,8'],\n",
      " ['chien', 'levrier', '218', '112', '65', '20,3', '13,9', '17'],\n",
      " ['chien', 'bull-mastif', '190', '93', '78', '19,7', '13,2', '14'],\n",
      " ['chien', 'briard', '212', '111', '73', '20,5', '13,7', '16,6'],\n",
      " ['chien', 'setter', '201', '105', '70', '19,8', '14,3', '15,9'],\n",
      " ['chien', 'setter', '196', '106', '67', '18,5', '12,6', '14,2'],\n",
      " ['chien', 'boxer', '158', '71', '71', '16,7', '12,5', '13,3'],\n",
      " ['chien', 'dogue allemand', '255', '126', '86', '21,4', '15', '18'],\n",
      " ['chien', 'dogue allemand', '234', '113', '83', '21,3', '14,8', '17'],\n",
      " ['chien', 'gronendal', '205', '105', '70', '19', '12,4', '14,9'],\n",
      " ['chien', 'berger allemand', '186', '97', '62', '19', '13,2', '14,2'],\n",
      " ['chien', 'dogue allemand', '241', '119', '87', '21', '14,7', '18,3'],\n",
      " ['chien', 'saint-bernard', '220', '111', '88', '22,5', '15,4', '18'],\n",
      " ['chien', 'dogue allemand', '242', '120', '85', '19,9', '15,3', '17,6'],\n",
      " ['loup', 'loup1', '199', '105', '73', '23,4', '15', '19,1'],\n",
      " ['loup', 'loup2', '227', '117', '77', '25', '15,3', '18,6'],\n",
      " ['loup', 'loup3', '228', '122', '82', '24,7', '15', '18,5'],\n",
      " ['loup', 'loup4', '232', '123', '83', '25,3', '16,8', '19,6'],\n",
      " ['loup', 'loup5', '231', '121', '78', '23,5', '16,5', '19,6'],\n",
      " ['loup', 'loup6', '215', '118', '74', '25,7', '15,7', '19'],\n",
      " ['loup', 'loup7', '184', '100', '69', '23,3', '15,8', '19,7'],\n",
      " ['loup', 'loup8', '175', '94', '73', '22,2', '14,8', '17'],\n",
      " ['loup', 'loup9', '239', '124', '77', '25', '16,8', '27'],\n",
      " ['loup', 'loup10', '203', '109', '70', '23,3', '15', '18,7'],\n",
      " ['loup', 'loup11', '226', '118', '72', '26', '16', '19,4'],\n",
      " ['loup', 'loup12', '226', '119', '77', '26,5', '16,8', '19,3'],\n",
      " ['decouverte', 'canide jussac', '210', '103', '72', '20,5', '14', '16,7']]\n"
     ]
    }
   ],
   "source": [
    "from pprint import pprint # Pour un affichage plus lisible.\n",
    "chiens_loups = charger_csv(\"chienloup.csv\")\n",
    "pprint(chiens_loups)"
   ]
  },
  {
   "cell_type": "markdown",
   "metadata": {},
   "source": [
    "## Autre méthode : import via panda et un fichier `.xlsx`"
   ]
  },
  {
   "cell_type": "code",
   "execution_count": 3,
   "metadata": {},
   "outputs": [],
   "source": [
    "import pandas\n",
    "X = pandas.read_excel(\"chienloup.xlsx\",sheet_name=0,header=0,index_col=0)"
   ]
  },
  {
   "cell_type": "code",
   "execution_count": 4,
   "metadata": {},
   "outputs": [
    {
     "name": "stdout",
     "output_type": "stream",
     "text": [
      "(42, 6)\n"
     ]
    }
   ],
   "source": [
    "#dimension\n",
    "print(X.shape)"
   ]
  },
  {
   "cell_type": "code",
   "execution_count": 4,
   "metadata": {},
   "outputs": [
    {
     "name": "stdout",
     "output_type": "stream",
     "text": [
      "42\n"
     ]
    }
   ],
   "source": [
    "#nombre d'observations\n",
    "n = X.shape[0]\n",
    "print(n)"
   ]
  },
  {
   "cell_type": "code",
   "execution_count": 5,
   "metadata": {},
   "outputs": [
    {
     "name": "stdout",
     "output_type": "stream",
     "text": [
      "6\n"
     ]
    }
   ],
   "source": [
    "#nombre de variables\n",
    "p = X.shape[1]\n",
    "print(p)"
   ]
  },
  {
   "cell_type": "code",
   "execution_count": 7,
   "metadata": {},
   "outputs": [
    {
     "name": "stdout",
     "output_type": "stream",
     "text": [
      "                    lcb       lms  lbm            lp.     Lm.           lam\n",
      "      ident                                                                \n",
      "bull-dog            129        64   95           17.5    11.5          13.8\n",
      "bull-dog            154        74   76           20.0    14.2          16.5\n",
      "chien-ind           170        87   71           17.9    12.3          15.9\n",
      "chien-ind           188        94   73           19.5    13.3          14.8\n",
      "chien-ind           161        81   55           17.1    12.1          13.0\n",
      "chien-ind           164        90   58           17.5    12.7          14.7\n",
      "berger allemand     203       109   65           20.7    14.0          16.8\n",
      "levrier             178        97   57           17.3    12.8          14.3\n",
      "levrier             212       114   65           20.5    14.3          15.5\n",
      "levrier             221       123   62           21.2    15.2          17.0\n",
      "colley              183        97   52           19.3    12.9          13.5\n",
      "doberman            212       112   65           19.7    14.2          16.0\n",
      "setter              220       117   70           19.8    14.3          15.6\n",
      "chien des Pyrenees  216       113   72           20.5    14.4          17.7\n",
      "bas-rouge           216       112   75           19.6    14.0          16.4\n",
      "berger allemand     205       110   68           20.8    14.1          16.4\n",
      "briard              228       122   78           22.5    14.2          17.8\n",
      "levrier             218       112   65           20.3    13.9          17.0\n",
      "bull-mastif         190        93   78           19.7    13.2          14.0\n",
      "briard              212       111   73           20.5    13.7          16.6\n",
      "setter              201       105   70           19.8    14.3          15.9\n",
      "setter              196       106   67           18.5    12.6          14.2\n",
      "boxer               158        71   71           16.7    12.5          13.3\n",
      "dogue allemand      255       126   86           21.4    15.0          18.0\n",
      "dogue allemand      234       113   83           21.3    14.8          17.0\n",
      "gronendal           205       105   70           19.0    12.4          14.9\n",
      "berger allemand     186        97   62           19.0    13.2          14.2\n",
      "dogue allemand      241       119   87           21.0    14.7          18.3\n",
      "saint-bernard       220       111   88           22.5    15.4          18.0\n",
      "dogue allemand      242       120   85           19.9    15.3          17.6\n",
      "loup1               199       105   73           23.4    15.0          19.1\n",
      "loup2               227       117   77           25.0    15.3          18.6\n",
      "loup3               228       122   82           24.7    15.0          18.5\n",
      "loup4               232       123   83           25.3    16.8          19.6\n",
      "loup5               231       121   78           23.5    16.5          19.6\n",
      "loup6               215       118   74           25.7    15.7          19.0\n",
      "loup7               184       100   69           23.3    15.8          19.7\n",
      "loup8               175        94   73           22.2    14.8          17.0\n",
      "loup9               239       124   77           25.0    16.8          27.0\n",
      "loup10              203       109   70           23.3    15.0          18.7\n",
      "loup11              226       118   72           26.0    16.0          19.4\n",
      "loup12              226       119   77           26.5    16.8          19.3\n"
     ]
    }
   ],
   "source": [
    "print(X)"
   ]
  },
  {
   "cell_type": "markdown",
   "metadata": {},
   "source": [
    "### Nous  devons  explicitement  centrer  et  réduire  les  variables  pour  réaliser  une ACP  normée"
   ]
  },
  {
   "cell_type": "code",
   "execution_count": 64,
   "metadata": {},
   "outputs": [
    {
     "name": "stdout",
     "output_type": "stream",
     "text": [
      "[[-2.77557726 -2.83824975  2.46150342 -1.37535381 -2.10644441 -1.24906381]\n",
      " [-1.86055179 -2.1711737   0.37849204 -0.41196388 -0.08211563 -0.16450151]\n",
      " [-1.27493549 -1.30397484 -0.16966885 -1.22121142 -1.50664329 -0.40551536]\n",
      " [-0.61611715 -0.83702161  0.04959551 -0.60464187 -0.75689189 -0.84737407]\n",
      " [-1.60434466 -1.70422047 -1.92378369 -1.52949619 -1.65659357 -1.5704156 ]\n",
      " [-1.4945416  -1.10385203 -1.59488716 -1.37535381 -1.20674273 -0.88754304]\n",
      " [-0.06710187  0.16359246 -0.82746191 -0.1422147  -0.23206591 -0.04399459]\n",
      " [-0.98212734 -0.6368988  -1.70451933 -1.452425   -1.13176759 -1.04821894]\n",
      " [ 0.2623073   0.49713048 -0.82746191 -0.2192859  -0.00714049 -0.56619125]\n",
      " [ 0.59171647  1.09749892 -1.15635845  0.05046328  0.66763577  0.03634336]\n",
      " [-0.79912224 -0.6368988  -2.25268022 -0.68171306 -1.05679245 -1.36957073]\n",
      " [ 0.2623073   0.36371527 -0.82746191 -0.52757067 -0.08211563 -0.36534638]\n",
      " [ 0.55511545  0.6972533  -0.27930102 -0.48903508 -0.00714049 -0.52602228]\n",
      " [ 0.40871138  0.43042288 -0.06003667 -0.2192859   0.06783465  0.31752618]\n",
      " [ 0.40871138  0.36371527  0.26885986 -0.56610627 -0.23206591 -0.20467049]\n",
      " [ 0.00610017  0.23030006 -0.49856538 -0.10367911 -0.15709077 -0.20467049]\n",
      " [ 0.8479236   1.03079132  0.5977564   0.55142604 -0.08211563  0.35769515]\n",
      " [ 0.48191341  0.36371527 -0.82746191 -0.29635709 -0.30704105  0.03634336]\n",
      " [-0.54291511 -0.90372922  0.5977564  -0.52757067 -0.83186703 -1.16872586]\n",
      " [ 0.2623073   0.29700767  0.04959551 -0.2192859  -0.45699133 -0.12433254]\n",
      " [-0.14030391 -0.10323796 -0.27930102 -0.48903508 -0.00714049 -0.40551536]\n",
      " [-0.323309   -0.03653035 -0.60819756 -0.98999784 -1.28171787 -1.08838791]\n",
      " [-1.71414771 -2.37129652 -0.16966885 -1.68363858 -1.35669301 -1.44990868]\n",
      " [ 1.83615111  1.29762174  1.47481382  0.12753448  0.51768549  0.4380331 ]\n",
      " [ 1.06752972  0.43042288  1.14591729  0.08899888  0.36773521  0.03634336]\n",
      " [ 0.00610017 -0.10323796 -0.27930102 -0.79731985 -1.43166815 -0.8072051 ]\n",
      " [-0.68931919 -0.6368988  -1.15635845 -0.79731985 -0.83186703 -1.08838791]\n",
      " [ 1.32373685  0.83066851  1.584446   -0.02660791  0.29276007  0.55854002]\n",
      " [ 0.55511545  0.29700767  1.69407817  0.55142604  0.81758605  0.4380331 ]\n",
      " [ 1.36033787  0.89737611  1.36518164 -0.45049948  0.74261091  0.2773572 ]\n",
      " [-0.21350594 -0.10323796  0.04959551  0.89824642  0.51768549  0.87989181]\n",
      " [ 0.81132258  0.6972533   0.48812422  1.51481597  0.74261091  0.67904694]\n",
      " [ 0.8479236   1.03079132  1.03628511  1.39920918  0.51768549  0.63887797]\n",
      " [ 0.99432768  1.09749892  1.14591729  1.63042276  1.86723801  1.08073668]\n",
      " [ 0.95772666  0.96408371  0.5977564   0.93678201  1.64231259  1.08073668]\n",
      " [ 0.37211036  0.7639609   0.15922769  1.78456515  1.04251147  0.83972284]\n",
      " [-0.76252123 -0.43677598 -0.3889332   0.85971082  1.11748661  1.12090566]\n",
      " [-1.09193039 -0.83702161  0.04959551  0.43581925  0.36773521  0.03634336]\n",
      " [ 1.25053481  1.16420653  0.48812422  1.51481597  1.86723801  4.05324076]\n",
      " [-0.06710187  0.16359246 -0.27930102  0.85971082  0.51768549  0.71921592]\n",
      " [ 0.77472156  0.7639609  -0.06003667  1.90017194  1.26743689  1.00039873]\n",
      " [ 0.77472156  0.83066851  0.48812422  2.09284992  1.86723801  0.96022976]]\n"
     ]
    }
   ],
   "source": [
    "#scikit-learn\n",
    "import sklearn\n",
    "#classe pour standardisation\n",
    "from sklearn.preprocessing import StandardScaler\n",
    "#instanciation\n",
    "sc = StandardScaler()\n",
    "#transformation–centrage-réduction\n",
    "Z = sc.fit_transform(X)\n",
    "print(Z)"
   ]
  },
  {
   "cell_type": "code",
   "execution_count": 65,
   "metadata": {},
   "outputs": [
    {
     "name": "stdout",
     "output_type": "stream",
     "text": [
      "[-3.38353684e-16 -2.08827664e-16 -3.62144177e-16 -2.43191710e-16\n",
      " -4.49375986e-16  6.71420591e-16]\n"
     ]
    }
   ],
   "source": [
    "#vérification -librairie numpy\n",
    "import numpy\n",
    "#moyenne\n",
    "print(numpy.mean(Z,axis=0))"
   ]
  },
  {
   "cell_type": "code",
   "execution_count": 66,
   "metadata": {},
   "outputs": [
    {
     "name": "stdout",
     "output_type": "stream",
     "text": [
      "[1. 1. 1. 1. 1. 1.]\n"
     ]
    }
   ],
   "source": [
    "#écart-type\n",
    "print(numpy.std(Z,axis=0,ddof=0))"
   ]
  },
  {
   "cell_type": "markdown",
   "metadata": {},
   "source": [
    "## Les données sont prêtes ! Lançons l'ACP !\n",
    "Il faut instancier l’objet PCA dans un premier temps, nous affichons ses propriétés"
   ]
  },
  {
   "cell_type": "code",
   "execution_count": 67,
   "metadata": {},
   "outputs": [
    {
     "name": "stdout",
     "output_type": "stream",
     "text": [
      "PCA(copy=True, iterated_power='auto', n_components=None, random_state=None,\n",
      "    svd_solver='full', tol=0.0, whiten=False)\n"
     ]
    }
   ],
   "source": [
    "#classe pour l'ACP\n",
    "from sklearn.decomposition import PCA\n",
    "#instanciation\n",
    "acp = PCA(svd_solver='full')\n",
    "#affichage des paramètres\n",
    "print(acp)"
   ]
  },
  {
   "cell_type": "markdown",
   "metadata": {},
   "source": [
    "## Calculs : l'ACP est effectué ci-dessous !!! Simple et court."
   ]
  },
  {
   "cell_type": "code",
   "execution_count": 68,
   "metadata": {},
   "outputs": [],
   "source": [
    "#calculs\n",
    "coord = acp.fit_transform(Z)"
   ]
  },
  {
   "cell_type": "code",
   "execution_count": 69,
   "metadata": {},
   "outputs": [
    {
     "name": "stdout",
     "output_type": "stream",
     "text": [
      "6\n"
     ]
    }
   ],
   "source": [
    "#nombre de composantes calculées\n",
    "print(acp.n_components_) "
   ]
  },
  {
   "cell_type": "markdown",
   "metadata": {},
   "source": [
    "La   propriété `.explained_variance_` semble  faire  l’affaire  pour  obtenir  les  variances (valeurs propres, λk) associées aux axes factoriels."
   ]
  },
  {
   "cell_type": "code",
   "execution_count": 70,
   "metadata": {},
   "outputs": [
    {
     "name": "stdout",
     "output_type": "stream",
     "text": [
      "[4.28371664 0.90767199 0.64955226 0.19119318 0.09337847 0.02082891]\n"
     ]
    }
   ],
   "source": [
    "#variance expliquée\n",
    "print(acp.explained_variance_)"
   ]
  },
  {
   "cell_type": "code",
   "execution_count": 71,
   "metadata": {},
   "outputs": [
    {
     "name": "stdout",
     "output_type": "stream",
     "text": [
      "[4.18172339 0.88606075 0.63408673 0.18664097 0.09115517 0.02033299]\n"
     ]
    }
   ],
   "source": [
    "#valeur corrigée\n",
    "eigval = (n-1)/n*acp.explained_variance_\n",
    "print(eigval)"
   ]
  },
  {
   "cell_type": "markdown",
   "metadata": {},
   "source": [
    "PCA fournit également les proportions de variance associées aux axes. Il n’est pas nécessaire d’effectuer une correction dans ce cas."
   ]
  },
  {
   "cell_type": "code",
   "execution_count": 72,
   "metadata": {},
   "outputs": [
    {
     "name": "stdout",
     "output_type": "stream",
     "text": [
      "[0.6969539  0.14767679 0.10568112 0.03110683 0.01519253 0.00338883]\n"
     ]
    }
   ],
   "source": [
    "#proportion de variance expliquée\n",
    "print(acp.explained_variance_ratio_)"
   ]
  },
  {
   "cell_type": "markdown",
   "metadata": {},
   "source": [
    "La première composante prend $\\approx 70 \\%$ de l'information disponible, puis la seconde $15\\%$ et la troisième $11\\%$. Ci-desous, le graphique \"Scree plot\" (éboulis des valeurs propres)"
   ]
  },
  {
   "cell_type": "code",
   "execution_count": 73,
   "metadata": {},
   "outputs": [
    {
     "data": {
      "image/png": "[encoded data removed]",
      "text/plain": [
       "<Figure size 432x288 with 1 Axes>"
      ]
     },
     "metadata": {
      "needs_background": "light"
     },
     "output_type": "display_data"
    }
   ],
   "source": [
    "#scree plot\n",
    "import matplotlib.pyplot as plt\n",
    "plt.plot(numpy.arange(1,p+1),eigval)\n",
    "plt.title(\"éboulis des valeurs propres\")\n",
    "plt.ylabel(\"Valeurs propres\")\n",
    "plt.xlabel(\"Numéro des valeurs propres\")\n",
    "plt.show()"
   ]
  },
  {
   "cell_type": "markdown",
   "metadata": {},
   "source": [
    "On retrouve les \"coudes\" vus lors de la présentation de l'ACP qui permettent de choisir le nombre de facteur $K^*$ à retenir. Ici on choisit $K^*=4$."
   ]
  },
  {
   "cell_type": "markdown",
   "metadata": {},
   "source": [
    "D’autres  pistes  existent  pour  répondre  à  cette  question  toujours  délicate  qui  conditionne l’interprétation del’ACP, notamment le«test  des  bâtons  brisés»  de  Legendre  &  Legendre (1983)\n",
    "Les seuils sont définis par: $$ b_k = \\sum_{m=k}^{p} \\frac{1}{m} $$\n",
    "Le facteur n°k est validé si (λk> bk),où λk est la valeur propre associée à l’axe n°k"
   ]
  },
  {
   "cell_type": "code",
   "execution_count": 74,
   "metadata": {},
   "outputs": [],
   "source": [
    "#seuils pour test des bâtons brisés\n",
    "bs = 1/numpy.arange(p,0,-1)\n",
    "bs = numpy.cumsum(bs)\n",
    "bs = bs[::-1]"
   ]
  },
  {
   "cell_type": "code",
   "execution_count": 75,
   "metadata": {},
   "outputs": [
    {
     "name": "stdout",
     "output_type": "stream",
     "text": [
      "   Val.Propre    Seuils\n",
      "0    4.181723  2.450000\n",
      "1    0.886061  1.450000\n",
      "2    0.634087  0.950000\n",
      "3    0.186641  0.616667\n",
      "4    0.091155  0.366667\n",
      "5    0.020333  0.166667\n"
     ]
    }
   ],
   "source": [
    "#test des bâtons brisés\n",
    "print(pandas.DataFrame({'Val.Propre':eigval,'Seuils':bs}))"
   ]
  },
  {
   "cell_type": "markdown",
   "metadata": {},
   "source": [
    "Dans notre cas, seul le premier facteur semble valide."
   ]
  },
  {
   "cell_type": "markdown",
   "metadata": {},
   "source": [
    "## Représentation des individus\n",
    "\n",
    "Les   coordonnées   factorielles   (Fik)   des   individus   ont   été collectées dans la variable coord\n",
    "Nous les positionnons dans le premier plan factoriel avec leurs labels pour situer et comprendre les proximités entre les individus."
   ]
  },
  {
   "cell_type": "code",
   "execution_count": 76,
   "metadata": {},
   "outputs": [
    {
     "data": {
      "image/png": "[encoded data removed]",
      "text/plain": [
       "<Figure size 864x864 with 1 Axes>"
      ]
     },
     "metadata": {
      "needs_background": "light"
     },
     "output_type": "display_data"
    }
   ],
   "source": [
    "#positionnement des individus dans le premier plan\n",
    "fig, axes = plt.subplots(figsize=(12,12))\n",
    "axes.set_xlim(-6,6)\n",
    "axes.set_ylim(-6,6)\n",
    "\n",
    "#étiquette des points actifs\n",
    "for i in range(n):\n",
    "    plt.annotate(X.index[i],(coord[i,0],coord[i,1]))\n",
    "\n",
    "#ajouter les axes\n",
    "plt.plot([-6,6],[0,0],color='silver',linestyle='-',linewidth=1)\n",
    "plt.plot([0,0],[-6,6],color='silver',linestyle='-',linewidth=1)\n",
    "\n",
    "#affichage\n",
    "plt.show()"
   ]
  },
  {
   "cell_type": "markdown",
   "metadata": {},
   "source": [
    "Qualité  de  représentation  \n",
    "Les  COS²  (cosinus  carré).  Pour  calculer  la  qualité  de représentation  des  individus  sur  les  axes,  nous  devons  d’abord  calculer  lescarrés  des distances à  l’origine des  individus,  qui  correspondentégalement  à  leur  contribution  dans l’**inertie totale**\n",
    "$$d_i^2 = \\sum_{j=1}^{p}z_{ij}^2$$"
   ]
  },
  {
   "cell_type": "code",
   "execution_count": 79,
   "metadata": {},
   "outputs": [
    {
     "name": "stdout",
     "output_type": "stream",
     "text": [
      "                    ID        d_i\n",
      "0             bull-dog  29.707356\n",
      "1             bull-dog   8.522422\n",
      "2            chien-ind   7.280372\n",
      "3            chien-ind   2.739185\n",
      "4            chien-ind  16.729099\n",
      "5            chien-ind  10.131368\n",
      "6      berger allemand   0.791974\n",
      "7              levrier   8.764800\n",
      "8              levrier   1.369347\n",
      "9              levrier   3.341402\n",
      "10              colley   9.576072\n",
      "11            doberman   1.304339\n",
      "12              setter   1.388230\n",
      "13  chien des Pyrenees   0.509424\n",
      "14           bas-rouge   0.787840\n",
      "15     berger allemand   0.378960\n",
      "16              briard   2.577577\n",
      "17             levrier   1.232645\n",
      "18         bull-mastif   3.805050\n",
      "19              briard   0.431864\n",
      "20              setter   0.512001\n",
      "21              setter   4.283252\n",
      "22               boxer  15.367627\n",
      "23      dogue allemand   7.706485\n",
      "24      dogue allemand   2.782481\n",
      "25           gronendal   3.425677\n",
      "26     berger allemand   4.730276\n",
      "27      dogue allemand   5.351142\n",
      "28       saint-bernard   4.430658\n",
      "29      dogue allemand   5.350872\n",
      "30               loup1   1.907757\n",
      "31               loup2   4.689915\n",
      "32               loup3   5.489342\n",
      "33               loup4  10.819166\n",
      "34               loup5   6.946753\n",
      "35               loup6   5.724093\n",
      "36               loup7   4.167789\n",
      "37               loup8   2.221865\n",
      "38               loup9  25.367485\n",
      "39              loup10   1.633647\n",
      "40              loup11   7.405281\n",
      "41              loup12  10.317109\n"
     ]
    }
   ],
   "source": [
    "#contribution des individus dans l'inertie totale\n",
    "di = numpy.sum(Z**2,axis=1)\n",
    "print(pandas.DataFrame({'ID':X.index,'d_i':di}))"
   ]
  },
  {
   "cell_type": "markdown",
   "metadata": {},
   "source": [
    "Nous pouvons alors déduire la qualité de représentation des individus sur l’axe n°k avec:\n",
    "$$COS^2_{ik} = \\frac{F^2_{ik}}{d^2_i}$$"
   ]
  },
  {
   "cell_type": "code",
   "execution_count": 80,
   "metadata": {},
   "outputs": [
    {
     "name": "stdout",
     "output_type": "stream",
     "text": [
      "                    id    COS2_1    COS2_2\n",
      "0             bull-dog  0.516978  0.474237\n",
      "1             bull-dog  0.428794  0.315093\n",
      "2            chien-ind  0.880590  0.045202\n",
      "3            chien-ind  0.913070  0.058165\n",
      "4            chien-ind  0.933511  0.043806\n",
      "5            chien-ind  0.892362  0.055743\n",
      "6      berger allemand  0.143690  0.772247\n",
      "7              levrier  0.822645  0.161838\n",
      "8              levrier  0.032805  0.830340\n",
      "9              levrier  0.188458  0.755981\n",
      "10              colley  0.653420  0.300892\n",
      "11            doberman  0.094413  0.783067\n",
      "12              setter  0.000383  0.417384\n",
      "13  chien des Pyrenees  0.337079  0.188445\n",
      "14           bas-rouge  0.003466  0.008603\n",
      "15     berger allemand  0.128034  0.822288\n",
      "16              briard  0.647977  0.000579\n",
      "17             levrier  0.006068  0.821175\n",
      "18         bull-mastif  0.665747  0.190223\n",
      "19              briard  0.028082  0.071393\n",
      "20              setter  0.611548  0.116583\n",
      "21              setter  0.741581  0.091610\n",
      "22               boxer  0.917409  0.060924\n",
      "23      dogue allemand  0.600652  0.015143\n",
      "24      dogue allemand  0.453159  0.111109\n",
      "25           gronendal  0.620632  0.036616\n",
      "26     berger allemand  0.869655  0.118871\n",
      "27      dogue allemand  0.504366  0.107985\n",
      "28       saint-bernard  0.546889  0.379520\n",
      "29      dogue allemand  0.440780  0.041966\n",
      "30               loup1  0.411674  0.048454\n",
      "31               loup2  0.893929  0.002883\n",
      "32               loup3  0.849924  0.034314\n",
      "33               loup4  0.938016  0.026510\n",
      "34               loup5  0.959010  0.000817\n",
      "35               loup6  0.798666  0.000351\n",
      "36               loup7  0.143222  0.012392\n",
      "37               loup8  0.084142  0.219460\n",
      "38               loup9  0.764126  0.001663\n",
      "39              loup10  0.495298  0.013397\n",
      "40              loup11  0.831459  0.013111\n",
      "41              loup12  0.859429  0.002107\n"
     ]
    }
   ],
   "source": [
    "#qualité de représentation des individus -COS2\n",
    "cos2 = coord**2\n",
    "for j in range(p):\n",
    "    cos2[:,j] = cos2[:,j]/di\n",
    "print(pandas.DataFrame({'id':X.index,'COS2_1':cos2[:,0],'COS2_2':cos2[:,1]}))"
   ]
  },
  {
   "cell_type": "code",
   "execution_count": 81,
   "metadata": {},
   "outputs": [
    {
     "name": "stdout",
     "output_type": "stream",
     "text": [
      "[1. 1. 1. 1. 1. 1. 1. 1. 1. 1. 1. 1. 1. 1. 1. 1. 1. 1. 1. 1. 1. 1. 1. 1.\n",
      " 1. 1. 1. 1. 1. 1. 1. 1. 1. 1. 1. 1. 1. 1. 1. 1. 1. 1.]\n"
     ]
    }
   ],
   "source": [
    "#vérifions la théorie -somme en ligne des cos2 = 1\n",
    "print(numpy.sum(cos2,axis=1))"
   ]
  },
  {
   "cell_type": "markdown",
   "metadata": {},
   "source": [
    "Contribution  des  individus  aux  axes  (CTR). \n",
    "Elles   permettent  de   déterminer   les individus qui pèsent le plus dans la définition de chaque facteur.\n"
   ]
  },
  {
   "cell_type": "code",
   "execution_count": 82,
   "metadata": {},
   "outputs": [
    {
     "name": "stdout",
     "output_type": "stream",
     "text": [
      "                    id     CTR_1     CTR_2\n",
      "0             bull-dog  0.087444  0.378570\n",
      "1             bull-dog  0.020807  0.072159\n",
      "2            chien-ind  0.036502  0.008843\n",
      "3            chien-ind  0.014240  0.004281\n",
      "4            chien-ind  0.088918  0.019692\n",
      "5            chien-ind  0.051476  0.015176\n",
      "6      berger allemand  0.000648  0.016434\n",
      "7              levrier  0.041053  0.038116\n",
      "8              levrier  0.000256  0.030553\n",
      "9              levrier  0.003585  0.067878\n",
      "10              colley  0.035627  0.077426\n",
      "11            doberman  0.000701  0.027446\n",
      "12              setter  0.000003  0.015570\n",
      "13  chien des Pyrenees  0.000978  0.002580\n",
      "14           bas-rouge  0.000016  0.000182\n",
      "15     berger allemand  0.000276  0.008373\n",
      "16              briard  0.009510  0.000040\n",
      "17             levrier  0.000043  0.027200\n",
      "18         bull-mastif  0.014423  0.019450\n",
      "19              briard  0.000069  0.000828\n",
      "20              setter  0.001783  0.001604\n",
      "21              setter  0.018085  0.010544\n",
      "22               boxer  0.080272  0.025158\n",
      "23      dogue allemand  0.026356  0.003136\n",
      "24      dogue allemand  0.007179  0.008307\n",
      "25           gronendal  0.012105  0.003371\n",
      "26     berger allemand  0.023422  0.015109\n",
      "27      dogue allemand  0.015367  0.015527\n",
      "28       saint-bernard  0.013796  0.045185\n",
      "29      dogue allemand  0.013429  0.006034\n",
      "30               loup1  0.004472  0.002484\n",
      "31               loup2  0.023871  0.000363\n",
      "32               loup3  0.026564  0.005061\n",
      "33               loup4  0.057783  0.007707\n",
      "34               loup5  0.037932  0.000153\n",
      "35               loup6  0.026030  0.000054\n",
      "36               loup7  0.003399  0.001388\n",
      "37               loup8  0.001064  0.013103\n",
      "38               loup9  0.110367  0.001134\n",
      "39              loup10  0.004607  0.000588\n",
      "40              loup11  0.035057  0.002609\n",
      "41              loup12  0.050485  0.000584\n"
     ]
    }
   ],
   "source": [
    "#contributions aux axes\n",
    "ctr = coord**2\n",
    "for j in range(p):\n",
    "    ctr[:,j] = ctr[:,j]/(n*eigval[j])\n",
    "print(pandas.DataFrame({'id':X.index,'CTR_1':ctr[:,0],'CTR_2':ctr[:,1]}))"
   ]
  },
  {
   "cell_type": "markdown",
   "metadata": {},
   "source": [
    "## Représentation des variables –Outils pour l’aide à l’interprétation\n",
    "\n",
    "Nous  avons  besoin  des vecteurs propres pour l’analyse des variables. Ils sont fournis par le champ .components_"
   ]
  },
  {
   "cell_type": "code",
   "execution_count": 83,
   "metadata": {},
   "outputs": [
    {
     "name": "stdout",
     "output_type": "stream",
     "text": [
      "[[ 0.86804419 -0.24262786 -0.42093642  0.02753162  0.01301465  0.09755084]\n",
      " [ 0.86702629 -0.38076234 -0.30055269 -0.01292053 -0.05500387 -0.09879868]\n",
      " [ 0.47146126  0.81632121 -0.33239519 -0.02211706 -0.00229455 -0.01905183]\n",
      " [ 0.89341119  0.06438612  0.32927944 -0.25530101 -0.15342248  0.02299695]\n",
      " [ 0.93701295  0.00324798  0.23555623 -0.07700412  0.24580126 -0.01270998]\n",
      " [ 0.88206323  0.10805592  0.30359363  0.3378145  -0.06323277  0.00150612]]\n"
     ]
    }
   ],
   "source": [
    "#racine carrée des valeurs propres\n",
    "sqrt_eigval = numpy.sqrt(eigval)\n",
    "#corrélation des variables avec les axes\n",
    "corvar = numpy.zeros((p,p))\n",
    "for k in range(p):\n",
    "    corvar[:,k] = acp.components_[k,:] * sqrt_eigval[k]\n",
    "    \n",
    "#afficher la matrice des corrélations variables x facteurs \n",
    "print(corvar)"
   ]
  },
  {
   "cell_type": "code",
   "execution_count": 84,
   "metadata": {},
   "outputs": [
    {
     "name": "stdout",
     "output_type": "stream",
     "text": [
      "              id     COR_1     COR_2\n",
      "0            lcb  0.868044 -0.242628\n",
      "1            lms  0.867026 -0.380762\n",
      "2            lbm  0.471461  0.816321\n",
      "3            lp.  0.893411  0.064386\n",
      "4            Lm.  0.937013  0.003248\n",
      "5            lam  0.882063  0.108056\n"
     ]
    }
   ],
   "source": [
    "#on affiche pour les deux premiers axes\n",
    "print(pandas.DataFrame({'id':X.columns,'COR_1':corvar[:,0],'COR_2':corvar[:,1]}))"
   ]
  },
  {
   "cell_type": "code",
   "execution_count": 85,
   "metadata": {},
   "outputs": [
    {
     "data": {
      "image/png": "[encoded data removed]",
      "text/plain": [
       "<Figure size 576x576 with 1 Axes>"
      ]
     },
     "metadata": {
      "needs_background": "light"
     },
     "output_type": "display_data"
    }
   ],
   "source": [
    "#cercle des corrélations\n",
    "fig, axes = plt.subplots(figsize=(8,8))\n",
    "axes.set_xlim(-1,1)\n",
    "axes.set_ylim(-1,1)\n",
    "\n",
    "#affichage des étiquettes(noms des variables)\n",
    "for j in range(p):\n",
    "    plt.annotate(X.columns[j],(corvar[j,0],corvar[j,1]))\n",
    "    \n",
    "#ajouter les axes\n",
    "plt.plot([-1,1],[0,0],color='silver',linestyle='-',linewidth=1)\n",
    "plt.plot([0,0],[-1,1],color='silver',linestyle='-',linewidth=1)\n",
    "\n",
    "#ajouter un cercle\n",
    "cercle = plt.Circle((0,0),1,color='blue',fill=False)\n",
    "axes.add_artist(cercle)\n",
    "\n",
    "#affichage\n",
    "plt.show()"
   ]
  },
  {
   "cell_type": "markdown",
   "metadata": {},
   "source": [
    "## Traitement des individus supplémentaires.\n",
    "Nous  souhaitons positionner  l'\"individu\" trouvé à Jussac , par  rapport  aux existantes.\n",
    "Nous  les  chargeons  avec read_excel() de Pandas,  elles  sont situées  dans  le  seconde feuille du classeur Excel (sheet_name = 1)."
   ]
  },
  {
   "cell_type": "code",
   "execution_count": 87,
   "metadata": {},
   "outputs": [
    {
     "name": "stdout",
     "output_type": "stream",
     "text": [
      "               lcb       lms  lbm            lp.     Lm.           lam\n",
      "      ident                                                           \n",
      "canide jussac  210       103   72           20.5      14          16.7\n"
     ]
    }
   ],
   "source": [
    "#chargement des individus supplémentaires\n",
    "indSupp = pandas.read_excel(\"chienloup.xlsx\",sheet_name=1,header=0,index_col=0)\n",
    "print(indSupp)"
   ]
  },
  {
   "cell_type": "markdown",
   "metadata": {},
   "source": [
    "Nous  devons  centrer  et réduire  les  variables  des  individus  supplémentaires à  l’aide  des paramètres (moyennes  et  écarts-type) des  données  actives ayant  servi  à  construire  le  repère factoriel."
   ]
  },
  {
   "cell_type": "code",
   "execution_count": 88,
   "metadata": {},
   "outputs": [
    {
     "name": "stdout",
     "output_type": "stream",
     "text": [
      "[[ 0.18910526 -0.23665317 -0.06003667 -0.2192859  -0.23206591 -0.08416356]]\n"
     ]
    }
   ],
   "source": [
    "#centrage-réduction avec les paramètres des individus actifs\n",
    "ZIndSupp = sc.transform(indSupp)\n",
    "print(ZIndSupp)"
   ]
  },
  {
   "cell_type": "markdown",
   "metadata": {},
   "source": [
    "Il ne reste plus qu’à faire calculer par la fonction .transform()leurs coordonnées."
   ]
  },
  {
   "cell_type": "code",
   "execution_count": 89,
   "metadata": {},
   "outputs": [
    {
     "name": "stdout",
     "output_type": "stream",
     "text": [
      "[[-0.27235045 -0.03054248 -0.17699592  0.12734181 -0.00815143  0.28579149]]\n"
     ]
    }
   ],
   "source": [
    "#projection dans l'espace factoriel\n",
    "coordSupp = acp.transform(ZIndSupp)\n",
    "print(coordSupp)"
   ]
  },
  {
   "cell_type": "markdown",
   "metadata": {},
   "source": [
    "Et à les représenter dans le premier plan factoriel parmi les observations actives."
   ]
  },
  {
   "cell_type": "code",
   "execution_count": 93,
   "metadata": {},
   "outputs": [
    {
     "data": {
      "image/png": "[encoded data removed]",
      "text/plain": [
       "<Figure size 864x864 with 1 Axes>"
      ]
     },
     "metadata": {
      "needs_background": "light"
     },
     "output_type": "display_data"
    }
   ],
   "source": [
    "#positionnement des individus supplémentaires dans le premier plan\n",
    "fig, axes = plt.subplots(figsize=(12,12))\n",
    "axes.set_xlim(-6,6)\n",
    "axes.set_ylim(-6,6)\n",
    "\n",
    "#étiquette des points actifs\n",
    "for i in range(n):\n",
    "    plt.annotate(X.index[i],(coord[i,0],coord[i,1]))\n",
    "    \n",
    "#étiquette des points supplémentaires (illustratifs)en bleu ‘b’\n",
    "for i in range(coordSupp.shape[0]):\n",
    "    plt.annotate(indSupp.index[i],(coordSupp[i,0],coordSupp[i,1]),color='b')\n",
    "    \n",
    "#ajouter les axes\n",
    "plt.plot([-6,6],[0,0],color='silver',linestyle='-',linewidth=1)\n",
    "plt.plot([0,0],[-6,6],color='silver',linestyle='-',linewidth=1)\n",
    "\n",
    "#affichage\n",
    "plt.show()"
   ]
  },
  {
   "cell_type": "markdown",
   "metadata": {},
   "source": [
    "## Représentation avec les axes des valeurs propres 1 et 3 \n",
    "*Je ne sais plus pourquoi !!!!*"
   ]
  },
  {
   "cell_type": "code",
   "execution_count": 94,
   "metadata": {},
   "outputs": [
    {
     "data": {
      "image/png": "[encoded data removed]",
      "text/plain": [
       "<Figure size 864x864 with 1 Axes>"
      ]
     },
     "metadata": {
      "needs_background": "light"
     },
     "output_type": "display_data"
    }
   ],
   "source": [
    "#positionnement des individus supplémentaires dans le premier plan\n",
    "fig, axes = plt.subplots(figsize=(12,12))\n",
    "axes.set_xlim(-6,6)\n",
    "axes.set_ylim(-6,6)\n",
    "\n",
    "#étiquette des points actifs\n",
    "for i in range(n):\n",
    "    plt.annotate(X.index[i],(coord[i,0],coord[i,2]))\n",
    "    \n",
    "#étiquette des points supplémentaires (illustratifs)en bleu ‘b’\n",
    "for i in range(coordSupp.shape[0]):\n",
    "    plt.annotate(indSupp.index[i],(coordSupp[i,0],coordSupp[i,2]),color='b')\n",
    "    \n",
    "#ajouter les axes\n",
    "plt.plot([-6,6],[0,0],color='silver',linestyle='-',linewidth=1)\n",
    "plt.plot([0,0],[-6,6],color='silver',linestyle='-',linewidth=1)\n",
    "\n",
    "#affichage\n",
    "plt.show()"
   ]
  },
  {
   "cell_type": "code",
   "execution_count": null,
   "metadata": {},
   "outputs": [],
   "source": []
  }
 ],
 "metadata": {
  "kernelspec": {
   "display_name": "Python 3",
   "language": "python",
   "name": "python3"
  },
  "language_info": {
   "codemirror_mode": {
    "name": "ipython",
    "version": 3
   },
   "file_extension": ".py",
   "mimetype": "text/x-python",
   "name": "python",
   "nbconvert_exporter": "python",
   "pygments_lexer": "ipython3",
   "version": "3.6.8"
  }
 },
 "nbformat": 4,
 "nbformat_minor": 4
}
